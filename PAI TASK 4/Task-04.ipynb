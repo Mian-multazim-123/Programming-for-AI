{
 "cells": [
  {
   "cell_type": "markdown",
   "id": "8748d06c",
   "metadata": {},
   "source": [
    "# N-Queen Problem"
   ]
  },
  {
   "cell_type": "code",
   "execution_count": 1,
   "id": "41061a34",
   "metadata": {},
   "outputs": [
    {
     "name": "stdout",
     "output_type": "stream",
     "text": [
      "Enter board size (N): 7\n",
      "\n",
      "N-Queens Solution for Board Size: 7x7\n",
      "\n",
      "   ┌───┬───┬───┬───┬───┬───┬───┐\n",
      " 1 │ Q │   │   │   │   │   │   │\n",
      "   ├───┼───┼───┼───┼───┼───┼───┤\n",
      " 2 │   │   │   │   │ Q │   │   │\n",
      "   ├───┼───┼───┼───┼───┼───┼───┤\n",
      " 3 │   │ Q │   │   │   │   │   │\n",
      "   ├───┼───┼───┼───┼───┼───┼───┤\n",
      " 4 │   │   │   │   │   │ Q │   │\n",
      "   ├───┼───┼───┼───┼───┼───┼───┤\n",
      " 5 │   │   │ Q │   │   │   │   │\n",
      "   ├───┼───┼───┼───┼───┼───┼───┤\n",
      " 6 │   │   │   │   │   │   │ Q │\n",
      "   ├───┼───┼───┼───┼───┼───┼───┤\n",
      " 7 │   │   │   │ Q │   │   │   │\n",
      "   └───┴───┴───┴───┴───┴───┴───┘\n",
      "\n",
      "Solution Found!\n",
      "\n"
     ]
    }
   ],
   "source": [
    "def print_board(board, N):\n",
    "    print(f\"\\nN-Queens Solution for Board Size: {N}x{N}\\n\")\n",
    "    print(\"   \" + \"┌\" + \"───┬\" * (N - 1) + \"───┐\")\n",
    "\n",
    "    for i in range(N):\n",
    "        row = f\" {i+1} │\" \n",
    "        for j in range(N):\n",
    "            row += \" Q │\" if board[i][j] else \"   │\"\n",
    "        print(row)\n",
    "        if i < N - 1:\n",
    "            print(\"   \" + \"├\" + \"───┼\" * (N - 1) + \"───┤\")\n",
    "        else:\n",
    "            print(\"   \" + \"└\" + \"───┴\" * (N - 1) + \"───┘\")\n",
    "\n",
    "    print(\"\\nSolution Found!\\n\")\n",
    "def is_safe(board, row, col, N):\n",
    "    for i in range(col):\n",
    "        if board[row][i]:  \n",
    "            return False\n",
    "    for i, j in zip(range(row, -1, -1), range(col, -1, -1)):  \n",
    "        if board[i][j]:\n",
    "            return False\n",
    "    for i, j in zip(range(row, N), range(col, -1, -1)):  \n",
    "        if board[i][j]:\n",
    "            return False\n",
    "    return True\n",
    "def solve_n_queens(board, col, N):\n",
    "    if col >= N:  \n",
    "        return True\n",
    "    for i in range(N):  \n",
    "        if is_safe(board, i, col, N):\n",
    "            board[i][col] = 1  \n",
    "            if solve_n_queens(board, col + 1, N):  \n",
    "                return True\n",
    "            board[i][col] = 0  \n",
    "    return False\n",
    "def n_queens():\n",
    "    N = int(input(\"Enter board size (N): \"))  \n",
    "    board = [[0] * N for _ in range(N)]  \n",
    "\n",
    "    if solve_n_queens(board, 0, N):  \n",
    "        print_board(board, N)\n",
    "    else:\n",
    "        print(f\"\\nNo solution exists for {N}x{N}\")\n",
    "\n",
    "n_queens()"
   ]
  },
  {
   "cell_type": "code",
   "execution_count": null,
   "id": "0e988f7d",
   "metadata": {},
   "outputs": [],
   "source": []
  }
 ],
 "metadata": {
  "kernelspec": {
   "display_name": "Python 3 (ipykernel)",
   "language": "python",
   "name": "python3"
  },
  "language_info": {
   "codemirror_mode": {
    "name": "ipython",
    "version": 3
   },
   "file_extension": ".py",
   "mimetype": "text/x-python",
   "name": "python",
   "nbconvert_exporter": "python",
   "pygments_lexer": "ipython3",
   "version": "3.11.5"
  }
 },
 "nbformat": 4,
 "nbformat_minor": 5
}
