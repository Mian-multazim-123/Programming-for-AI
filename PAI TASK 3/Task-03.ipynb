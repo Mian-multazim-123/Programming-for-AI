{
 "cells": [
  {
   "cell_type": "markdown",
   "id": "8dfed11c",
   "metadata": {},
   "source": [
    "# Water Jug"
   ]
  },
  {
   "cell_type": "code",
   "execution_count": 20,
   "id": "ce771034",
   "metadata": {},
   "outputs": [
    {
     "name": "stdout",
     "output_type": "stream",
     "text": [
      "\n",
      "Solution Found:\n",
      "Step 0: (0, 0) → Start\n",
      "Step 1: (0, 3) → Fill the 3 gallon Jug\n",
      "Step 2: (3, 0) → Pour the 3 gallon from 3 gallon to 4 gallon jug\n",
      "Step 3: (3, 3) → Fill the 3 gallon Jug\n",
      "Step 4: (4, 2) → Pour the 1 gallon from 3 gallon to 4 gallon jug\n",
      "Step 5: (4, 0) → Empty the 3 gallon jug\n",
      "Step 6: (1, 3) → Pour the 3 gallon from 4 galoon to 3 gallon Jug\n",
      "Step 7: (1, 0) → Empty the 3 gallon jug\n"
     ]
    }
   ],
   "source": [
    "def Water_jug(x,y):\n",
    "    moves=[]\n",
    "    if x<4:\n",
    "        moves.append(((4,y),\"Fill the 4 gallon Jug\"))\n",
    "    if y<3:\n",
    "        moves.append(((x,3),\"Fill the 3 gallon Jug\"))\n",
    "    if x>0:\n",
    "        moves.append(((0,y),\"Empty the 4 gallon Jug\"))\n",
    "    if y>0:\n",
    "        moves.append(((x,0),\"Empty the 3 gallon jug\"))\n",
    "    if x>0 and y<3:\n",
    "        pour=min(x,3-y)\n",
    "        moves.append(((x-pour,y+pour),f\"Pour the {pour} gallon from 4 galoon to 3 gallon Jug\"))\n",
    "    if y>0 and x<4:\n",
    "        pour=min(y,4-x)\n",
    "        moves.append(((x+pour,y-pour),f\"Pour the {pour} gallon from 3 gallon to 4 gallon jug\"))\n",
    "    return moves\n",
    "def dfs(start,goal):\n",
    "    stack=[(start,[start],[])]\n",
    "    visited=set()\n",
    "    while stack:\n",
    "        (x,y),path,step,=stack.pop()\n",
    "        if (x,y)==goal:\n",
    "            return path,step\n",
    "        if (x,y) not in visited:\n",
    "            visited.add((x,y))\n",
    "            for move,action in Water_jug(x,y):\n",
    "                stack.append((move,path+[move],step+[action]))\n",
    "    return None, None\n",
    "start_state=(0,0)\n",
    "goal_state=(1,0)\n",
    "sol_path,sol_step=dfs(start_state,goal_state)\n",
    "if sol_path:\n",
    "    print(\"\\nSolution Found:\")\n",
    "    print(f\"Step 0: {sol_path[0]} → Start\")\n",
    "    step_number = 1\n",
    "    for i in range(1, len(sol_path)):\n",
    "        print(f\"Step {i}: {sol_path[i]} → {sol_step[i-1]}\")\n",
    "\n",
    "else:\n",
    "    print(\"No solution found!\")\n"
   ]
  },
  {
   "cell_type": "code",
   "execution_count": null,
   "id": "f231bb8f",
   "metadata": {},
   "outputs": [],
   "source": []
  }
 ],
 "metadata": {
  "kernelspec": {
   "display_name": "Python 3 (ipykernel)",
   "language": "python",
   "name": "python3"
  },
  "language_info": {
   "codemirror_mode": {
    "name": "ipython",
    "version": 3
   },
   "file_extension": ".py",
   "mimetype": "text/x-python",
   "name": "python",
   "nbconvert_exporter": "python",
   "pygments_lexer": "ipython3",
   "version": "3.11.5"
  }
 },
 "nbformat": 4,
 "nbformat_minor": 5
}
